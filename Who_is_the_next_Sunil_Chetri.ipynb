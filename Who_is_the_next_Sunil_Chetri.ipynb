{
  "nbformat": 4,
  "nbformat_minor": 0,
  "metadata": {
    "colab": {
      "name": "Who is the next Sunil Chetri.ipynb",
      "provenance": [],
      "collapsed_sections": [],
      "authorship_tag": "ABX9TyMCxdZviMKbsBy1qR5QTea9",
      "include_colab_link": true
    },
    "kernelspec": {
      "name": "python3",
      "display_name": "Python 3"
    },
    "language_info": {
      "name": "python"
    }
  },
  "cells": [
    {
      "cell_type": "markdown",
      "metadata": {
        "id": "view-in-github",
        "colab_type": "text"
      },
      "source": [
        "<a href=\"https://colab.research.google.com/github/kaustavr19/Who-is-the-next-Sunil-Chetri---Analytical-Perscpective/blob/main/Who_is_the_next_Sunil_Chetri.ipynb\" target=\"_parent\"><img src=\"https://colab.research.google.com/assets/colab-badge.svg\" alt=\"Open In Colab\"/></a>"
      ]
    },
    {
      "cell_type": "markdown",
      "metadata": {
        "id": "pvfWEfX3FfbW"
      },
      "source": [
        "# Who is the next Sunil Chhetri?\n",
        "\n",
        "We will use the data from the past two ISL seasons and compare the attributes of Chhetri with other strikers in Indian Football to see who is capable of replacing him."
      ]
    },
    {
      "cell_type": "markdown",
      "metadata": {
        "id": "ExAq2CSVFhvY"
      },
      "source": [
        "## Reading & Exploring the Data"
      ]
    },
    {
      "cell_type": "code",
      "metadata": {
        "id": "JRMUc4J7Ej5U"
      },
      "source": [
        "#import required libraries\n",
        "import io\n",
        "import numpy as np\n",
        "import pandas as pd\n",
        "from copy import deepcopy\n",
        "from google.colab import files "
      ],
      "execution_count": 1,
      "outputs": []
    },
    {
      "cell_type": "code",
      "metadata": {
        "id": "pWQf2vmeF9BB"
      },
      "source": [
        "#import plotting libraries\n",
        "import matplotlib.pyplot as plt\n",
        "import seaborn as sns\n",
        "import plotly.express as px"
      ],
      "execution_count": 2,
      "outputs": []
    },
    {
      "cell_type": "code",
      "metadata": {
        "id": "zXB1hkyhGIpo"
      },
      "source": [
        ""
      ],
      "execution_count": null,
      "outputs": []
    }
  ]
}